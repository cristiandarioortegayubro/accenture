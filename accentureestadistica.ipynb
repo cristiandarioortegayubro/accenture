{
  "nbformat": 4,
  "nbformat_minor": 0,
  "metadata": {
    "colab": {
      "name": "accentureestadistica.ipynb",
      "provenance": [],
      "authorship_tag": "ABX9TyNf4xozmHXGqwL6rnAz4Zbm",
      "include_colab_link": true
    },
    "kernelspec": {
      "name": "ir",
      "display_name": "R"
    },
    "language_info": {
      "name": "R"
    }
  },
  "cells": [
    {
      "cell_type": "markdown",
      "metadata": {
        "id": "view-in-github",
        "colab_type": "text"
      },
      "source": [
        "<a href=\"https://colab.research.google.com/github/cristiandarioortegayubro/accenture/blob/main/accentureestadistica.ipynb\" target=\"_parent\"><img src=\"https://colab.research.google.com/assets/colab-badge.svg\" alt=\"Open In Colab\"/></a>"
      ]
    },
    {
      "cell_type": "markdown",
      "source": [
        "![texto del vínculo](https://www.accenture.com/t20180820T081710Z__w__/il-en/_acnmedia/Accenture/Dev/Redesign/Acc_Logo_Black_Purple_RGB.PNG)"
      ],
      "metadata": {
        "id": "To7js_RDU2FC"
      }
    },
    {
      "cell_type": "markdown",
      "source": [
        "# Estadística\n",
        "~~~python\n",
        "Cdor. Cristian Darío Ortega Yubro\n",
        "~~~"
      ],
      "metadata": {
        "id": "_R8nl8qaVHQ0"
      }
    },
    {
      "cell_type": "code",
      "execution_count": null,
      "metadata": {
        "id": "AiQ_oekUUzl1"
      },
      "outputs": [],
      "source": [
        ""
      ]
    }
  ]
}