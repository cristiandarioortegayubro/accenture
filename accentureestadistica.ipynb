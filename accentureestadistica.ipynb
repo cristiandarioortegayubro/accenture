{
  "nbformat": 4,
  "nbformat_minor": 0,
  "metadata": {
    "colab": {
      "name": "accentureestadistica.ipynb",
      "provenance": [],
      "toc_visible": true,
      "authorship_tag": "ABX9TyOwl7Y3hnO0ZeAJH3EbyPJG",
      "include_colab_link": true
    },
    "kernelspec": {
      "name": "ir",
      "display_name": "R"
    },
    "language_info": {
      "name": "R"
    }
  },
  "cells": [
    {
      "cell_type": "markdown",
      "metadata": {
        "id": "view-in-github",
        "colab_type": "text"
      },
      "source": [
        "<a href=\"https://colab.research.google.com/github/cristiandarioortegayubro/accenture/blob/main/accentureestadistica.ipynb\" target=\"_parent\"><img src=\"https://colab.research.google.com/assets/colab-badge.svg\" alt=\"Open In Colab\"/></a>"
      ]
    },
    {
      "cell_type": "markdown",
      "source": [
        "![texto del vínculo](https://www.accenture.com/t20180820T081710Z__w__/il-en/_acnmedia/Accenture/Dev/Redesign/Acc_Logo_Black_Purple_RGB.PNG)"
      ],
      "metadata": {
        "id": "To7js_RDU2FC"
      }
    },
    {
      "cell_type": "markdown",
      "source": [
        "# Estadística\n",
        "~~~python\n",
        "Cdor. Cristian Darío Ortega Yubro\n",
        "~~~"
      ],
      "metadata": {
        "id": "_R8nl8qaVHQ0"
      }
    },
    {
      "cell_type": "markdown",
      "source": [
        "Se tomaron cuatro muestras al azar para cinco marcas de cerveza elegidas también en forma aleatoria dentro de las marcas de mayor venta en el país. A ellas se les determinó el valor calórico expresado en calorías por 100 ml, y se desea saber si las marcas difieren en cuanto a la variable de respuesta analizada. \n"
      ],
      "metadata": {
        "id": "ZzZ-IdWgrF_W"
      }
    },
    {
      "cell_type": "markdown",
      "source": [
        "![texto del vínculo](https://github.com/cristiandarioortegayubro/accenture/blob/main/datos.png?raw=true)"
      ],
      "metadata": {
        "id": "6LBXcCmDrm-2"
      }
    },
    {
      "cell_type": "markdown",
      "source": [
        "## Muestras"
      ],
      "metadata": {
        "id": "P5kxyNdG5zA5"
      }
    },
    {
      "cell_type": "code",
      "execution_count": 1,
      "metadata": {
        "id": "AiQ_oekUUzl1"
      },
      "outputs": [],
      "source": [
        "Marca=c(rep(\"A\",4),rep(\"B\",4),rep(\"C\",4),rep(\"D\",4),rep(\"E\",4))\n",
        "Marca=factor(Marca)"
      ]
    },
    {
      "cell_type": "code",
      "source": [
        "m1=c(31.5,32,32.7,30.9)\n",
        "m2=c(32.3,31.9,33,31.7)\n",
        "m3=c(28.8,27.6,29.1,27.7)\n",
        "m4=c(24.5,25.3,24.9,26.1)\n",
        "m5=c(25.4,26.3,23.9,24.1)"
      ],
      "metadata": {
        "id": "mNsWa5MkatNR"
      },
      "execution_count": 2,
      "outputs": []
    },
    {
      "cell_type": "code",
      "source": [
        "vc=c(m1,m2,m3,m4,m5)"
      ],
      "metadata": {
        "id": "ECEa8NcGbeTk"
      },
      "execution_count": 3,
      "outputs": []
    },
    {
      "cell_type": "code",
      "source": [
        "options=c(\"contr.sum\",\"contr.poly\")"
      ],
      "metadata": {
        "id": "hgFq-54cb75y"
      },
      "execution_count": 4,
      "outputs": []
    },
    {
      "cell_type": "markdown",
      "source": [
        "## Dataframe"
      ],
      "metadata": {
        "id": "_c7Bxn_a52C9"
      }
    },
    {
      "cell_type": "code",
      "source": [
        "df=data.frame(Marca,vc)\n",
        "df"
      ],
      "metadata": {
        "colab": {
          "base_uri": "https://localhost:8080/",
          "height": 734
        },
        "id": "fzpnfR3K6GAX",
        "outputId": "fdabc1c6-ee9f-4ed9-a9b8-b85d9a752809"
      },
      "execution_count": 5,
      "outputs": [
        {
          "output_type": "display_data",
          "data": {
            "text/plain": [
              "   Marca vc  \n",
              "1  A     31.5\n",
              "2  A     32.0\n",
              "3  A     32.7\n",
              "4  A     30.9\n",
              "5  B     32.3\n",
              "6  B     31.9\n",
              "7  B     33.0\n",
              "8  B     31.7\n",
              "9  C     28.8\n",
              "10 C     27.6\n",
              "11 C     29.1\n",
              "12 C     27.7\n",
              "13 D     24.5\n",
              "14 D     25.3\n",
              "15 D     24.9\n",
              "16 D     26.1\n",
              "17 E     25.4\n",
              "18 E     26.3\n",
              "19 E     23.9\n",
              "20 E     24.1"
            ],
            "text/latex": "A data.frame: 20 × 2\n\\begin{tabular}{ll}\n Marca & vc\\\\\n <fct> & <dbl>\\\\\n\\hline\n\t A & 31.5\\\\\n\t A & 32.0\\\\\n\t A & 32.7\\\\\n\t A & 30.9\\\\\n\t B & 32.3\\\\\n\t B & 31.9\\\\\n\t B & 33.0\\\\\n\t B & 31.7\\\\\n\t C & 28.8\\\\\n\t C & 27.6\\\\\n\t C & 29.1\\\\\n\t C & 27.7\\\\\n\t D & 24.5\\\\\n\t D & 25.3\\\\\n\t D & 24.9\\\\\n\t D & 26.1\\\\\n\t E & 25.4\\\\\n\t E & 26.3\\\\\n\t E & 23.9\\\\\n\t E & 24.1\\\\\n\\end{tabular}\n",
            "text/markdown": "\nA data.frame: 20 × 2\n\n| Marca &lt;fct&gt; | vc &lt;dbl&gt; |\n|---|---|\n| A | 31.5 |\n| A | 32.0 |\n| A | 32.7 |\n| A | 30.9 |\n| B | 32.3 |\n| B | 31.9 |\n| B | 33.0 |\n| B | 31.7 |\n| C | 28.8 |\n| C | 27.6 |\n| C | 29.1 |\n| C | 27.7 |\n| D | 24.5 |\n| D | 25.3 |\n| D | 24.9 |\n| D | 26.1 |\n| E | 25.4 |\n| E | 26.3 |\n| E | 23.9 |\n| E | 24.1 |\n\n",
            "text/html": [
              "<table class=\"dataframe\">\n",
              "<caption>A data.frame: 20 × 2</caption>\n",
              "<thead>\n",
              "\t<tr><th scope=col>Marca</th><th scope=col>vc</th></tr>\n",
              "\t<tr><th scope=col>&lt;fct&gt;</th><th scope=col>&lt;dbl&gt;</th></tr>\n",
              "</thead>\n",
              "<tbody>\n",
              "\t<tr><td>A</td><td>31.5</td></tr>\n",
              "\t<tr><td>A</td><td>32.0</td></tr>\n",
              "\t<tr><td>A</td><td>32.7</td></tr>\n",
              "\t<tr><td>A</td><td>30.9</td></tr>\n",
              "\t<tr><td>B</td><td>32.3</td></tr>\n",
              "\t<tr><td>B</td><td>31.9</td></tr>\n",
              "\t<tr><td>B</td><td>33.0</td></tr>\n",
              "\t<tr><td>B</td><td>31.7</td></tr>\n",
              "\t<tr><td>C</td><td>28.8</td></tr>\n",
              "\t<tr><td>C</td><td>27.6</td></tr>\n",
              "\t<tr><td>C</td><td>29.1</td></tr>\n",
              "\t<tr><td>C</td><td>27.7</td></tr>\n",
              "\t<tr><td>D</td><td>24.5</td></tr>\n",
              "\t<tr><td>D</td><td>25.3</td></tr>\n",
              "\t<tr><td>D</td><td>24.9</td></tr>\n",
              "\t<tr><td>D</td><td>26.1</td></tr>\n",
              "\t<tr><td>E</td><td>25.4</td></tr>\n",
              "\t<tr><td>E</td><td>26.3</td></tr>\n",
              "\t<tr><td>E</td><td>23.9</td></tr>\n",
              "\t<tr><td>E</td><td>24.1</td></tr>\n",
              "</tbody>\n",
              "</table>\n"
            ]
          },
          "metadata": {}
        }
      ]
    },
    {
      "cell_type": "code",
      "source": [
        "summary(df)"
      ],
      "metadata": {
        "colab": {
          "base_uri": "https://localhost:8080/",
          "height": 136
        },
        "id": "SS__WhulOrET",
        "outputId": "23feb354-c354-4c91-e5f5-6087da37b00f"
      },
      "execution_count": 6,
      "outputs": [
        {
          "output_type": "display_data",
          "data": {
            "text/plain": [
              " Marca       vc       \n",
              " A:4   Min.   :23.90  \n",
              " B:4   1st Qu.:25.38  \n",
              " C:4   Median :28.25  \n",
              " D:4   Mean   :28.48  \n",
              " E:4   3rd Qu.:31.75  \n",
              "       Max.   :33.00  "
            ]
          },
          "metadata": {}
        }
      ]
    },
    {
      "cell_type": "code",
      "source": [
        "attach(df)"
      ],
      "metadata": {
        "colab": {
          "base_uri": "https://localhost:8080/"
        },
        "id": "zUaX2QQXxM3X",
        "outputId": "8646bb9e-5414-4864-c5cc-2697e3bc2c27"
      },
      "execution_count": 7,
      "outputs": [
        {
          "output_type": "stream",
          "name": "stderr",
          "text": [
            "The following objects are masked _by_ .GlobalEnv:\n",
            "\n",
            "    Marca, vc\n",
            "\n",
            "\n"
          ]
        }
      ]
    },
    {
      "cell_type": "markdown",
      "source": [
        "## Librerías necesarias"
      ],
      "metadata": {
        "id": "JjeyLS84FXxR"
      }
    },
    {
      "cell_type": "markdown",
      "source": [
        "### Instalando librerías"
      ],
      "metadata": {
        "id": "m8P1eZGHGt6m"
      }
    },
    {
      "cell_type": "code",
      "source": [
        "install.packages(\"lmtest\")"
      ],
      "metadata": {
        "colab": {
          "base_uri": "https://localhost:8080/"
        },
        "id": "BKFO7__wGpzV",
        "outputId": "5a176e30-c9ca-4abe-81ca-1585382271f7"
      },
      "execution_count": 8,
      "outputs": [
        {
          "output_type": "stream",
          "name": "stderr",
          "text": [
            "Installing package into ‘/usr/local/lib/R/site-library’\n",
            "(as ‘lib’ is unspecified)\n",
            "\n"
          ]
        }
      ]
    },
    {
      "cell_type": "code",
      "source": [
        "install.packages(\"BSDA\")"
      ],
      "metadata": {
        "colab": {
          "base_uri": "https://localhost:8080/"
        },
        "id": "7kzHVIWOgYaX",
        "outputId": "94210294-6be8-469a-c461-3834b765a89f"
      },
      "execution_count": 9,
      "outputs": [
        {
          "output_type": "stream",
          "name": "stderr",
          "text": [
            "Installing package into ‘/usr/local/lib/R/site-library’\n",
            "(as ‘lib’ is unspecified)\n",
            "\n"
          ]
        }
      ]
    },
    {
      "cell_type": "code",
      "source": [
        "install.packages(\"multcomp\")"
      ],
      "metadata": {
        "colab": {
          "base_uri": "https://localhost:8080/"
        },
        "id": "HDWIOJVIkkq9",
        "outputId": "bc76c254-e8d4-492b-f178-fc7cad47a3fa"
      },
      "execution_count": 10,
      "outputs": [
        {
          "output_type": "stream",
          "name": "stderr",
          "text": [
            "Installing package into ‘/usr/local/lib/R/site-library’\n",
            "(as ‘lib’ is unspecified)\n",
            "\n"
          ]
        }
      ]
    },
    {
      "cell_type": "markdown",
      "source": [
        "### Para el desarrollo del modelo"
      ],
      "metadata": {
        "id": "nSMqsvpPG0yA"
      }
    },
    {
      "cell_type": "code",
      "source": [
        "library(lmtest)\n",
        "library(BSDA)\n",
        "library(multcomp)"
      ],
      "metadata": {
        "colab": {
          "base_uri": "https://localhost:8080/"
        },
        "id": "9G7lWcmtFa03",
        "outputId": "805a6645-953d-41be-cd14-68c663a688f9"
      },
      "execution_count": 11,
      "outputs": [
        {
          "output_type": "stream",
          "name": "stderr",
          "text": [
            "Loading required package: zoo\n",
            "\n",
            "\n",
            "Attaching package: ‘zoo’\n",
            "\n",
            "\n",
            "The following objects are masked from ‘package:base’:\n",
            "\n",
            "    as.Date, as.Date.numeric\n",
            "\n",
            "\n",
            "Loading required package: lattice\n",
            "\n",
            "\n",
            "Attaching package: ‘BSDA’\n",
            "\n",
            "\n",
            "The following object is masked from ‘package:datasets’:\n",
            "\n",
            "    Orange\n",
            "\n",
            "\n",
            "Loading required package: mvtnorm\n",
            "\n",
            "Loading required package: survival\n",
            "\n",
            "Loading required package: TH.data\n",
            "\n",
            "Loading required package: MASS\n",
            "\n",
            "\n",
            "Attaching package: ‘TH.data’\n",
            "\n",
            "\n",
            "The following object is masked from ‘package:MASS’:\n",
            "\n",
            "    geyser\n",
            "\n",
            "\n"
          ]
        }
      ]
    },
    {
      "cell_type": "markdown",
      "source": [
        "### Para análisis gráfico"
      ],
      "metadata": {
        "id": "b1_GwZa9X9-X"
      }
    },
    {
      "cell_type": "code",
      "source": [
        "library(ggplot2)"
      ],
      "metadata": {
        "id": "OYhzpVgKYBn0"
      },
      "execution_count": 12,
      "outputs": []
    },
    {
      "cell_type": "markdown",
      "source": [
        "## Plantear el modelo de análisis y supuestos"
      ],
      "metadata": {
        "id": "x5yua0EUFO9L"
      }
    },
    {
      "cell_type": "markdown",
      "source": [
        "### Modelo de análisis, regresión lineal simple, con un factor de 5 niveles"
      ],
      "metadata": {
        "id": "7OzE0OROJkN3"
      }
    },
    {
      "cell_type": "markdown",
      "source": [
        "El efecto de analizar si existen diferencias significativas entre los valores calóricos de las distintas marcas de cervezas, se ajusta a un modelo lineal de la forma:\n"
      ],
      "metadata": {
        "id": "KU4He2bzsUtz"
      }
    },
    {
      "cell_type": "markdown",
      "source": [
        "$vc_{i,j}= \\mu_{i}+\\epsilon_{i,j}$"
      ],
      "metadata": {
        "id": "JO5r6G88s7UC"
      }
    },
    {
      "cell_type": "markdown",
      "source": [
        "Donde:\n",
        "\n",
        "- $i=A,..,E$\n",
        "- $j=23.90,..,33$\n",
        "- $vc_{i,j}$ es la observacion de las muestras de valores calóricos de las distintas marcas de cerveza $i,j$\n",
        "- $\\mu_i$ es el valor medio de la muestra de marca de cerveza $i$\n",
        "- $\\epsilon_{i,j}$ es la variable aleatoria que representa la oscilación - error de los valores calóricos de las cervezas."
      ],
      "metadata": {
        "id": "qMU9ahyTuDVJ"
      }
    },
    {
      "cell_type": "markdown",
      "source": [
        "Se supone que el modelo planteado presenta una distribución normal."
      ],
      "metadata": {
        "id": "321Va7M8vikU"
      }
    },
    {
      "cell_type": "code",
      "source": [
        "modelo=lm(vc~Marca-1)\n",
        "summary(modelo)"
      ],
      "metadata": {
        "id": "-S1B0ok4FTrI",
        "colab": {
          "base_uri": "https://localhost:8080/",
          "height": 374
        },
        "outputId": "28a612a2-0e4f-412d-ce88-0356057d58ac"
      },
      "execution_count": 13,
      "outputs": [
        {
          "output_type": "display_data",
          "data": {
            "text/plain": [
              "\n",
              "Call:\n",
              "lm(formula = vc ~ Marca - 1)\n",
              "\n",
              "Residuals:\n",
              "    Min      1Q  Median      3Q     Max \n",
              "-1.0250 -0.6250 -0.1000  0.5687  1.3750 \n",
              "\n",
              "Coefficients:\n",
              "       Estimate Std. Error t value Pr(>|t|)    \n",
              "MarcaA  31.7750     0.4025   78.94   <2e-16 ***\n",
              "MarcaB  32.2250     0.4025   80.05   <2e-16 ***\n",
              "MarcaC  28.3000     0.4025   70.30   <2e-16 ***\n",
              "MarcaD  25.2000     0.4025   62.60   <2e-16 ***\n",
              "MarcaE  24.9250     0.4025   61.92   <2e-16 ***\n",
              "---\n",
              "Signif. codes:  0 ‘***’ 0.001 ‘**’ 0.01 ‘*’ 0.05 ‘.’ 0.1 ‘ ’ 1\n",
              "\n",
              "Residual standard error: 0.8051 on 15 degrees of freedom\n",
              "Multiple R-squared:  0.9994,\tAdjusted R-squared:  0.9992 \n",
              "F-statistic:  5067 on 5 and 15 DF,  p-value: < 2.2e-16\n"
            ]
          },
          "metadata": {}
        }
      ]
    },
    {
      "cell_type": "markdown",
      "source": [
        "### Supuestos del módelo, normalidad, homocedasticidad e independencia"
      ],
      "metadata": {
        "id": "BkLnmPeyJojw"
      }
    },
    {
      "cell_type": "markdown",
      "source": [
        "#### Normalidad"
      ],
      "metadata": {
        "id": "yyk0x8goWlZk"
      }
    },
    {
      "cell_type": "markdown",
      "source": [
        "Para comprobar la normalidad de los errores se utiliza el Test de Shapiro - Wilks, test utilizado usualmente, aplicado a los residuos y a los valores estándar del modelo propuesto. "
      ],
      "metadata": {
        "id": "IVjfpAr_yBVY"
      }
    },
    {
      "cell_type": "code",
      "source": [
        "shapiro.test(rstandard(modelo))"
      ],
      "metadata": {
        "id": "DEx0S5tUJwR4",
        "colab": {
          "base_uri": "https://localhost:8080/",
          "height": 102
        },
        "outputId": "87ac727a-889d-4375-8fa0-c357adb98b8b"
      },
      "execution_count": 14,
      "outputs": [
        {
          "output_type": "display_data",
          "data": {
            "text/plain": [
              "\n",
              "\tShapiro-Wilk normality test\n",
              "\n",
              "data:  rstandard(modelo)\n",
              "W = 0.94236, p-value = 0.2656\n"
            ]
          },
          "metadata": {}
        }
      ]
    },
    {
      "cell_type": "code",
      "source": [
        "shapiro.test(residuals(modelo))"
      ],
      "metadata": {
        "colab": {
          "base_uri": "https://localhost:8080/",
          "height": 102
        },
        "id": "hPJZ4LotyDod",
        "outputId": "df768361-2b9a-457b-d43d-c5017b90ffc2"
      },
      "execution_count": 15,
      "outputs": [
        {
          "output_type": "display_data",
          "data": {
            "text/plain": [
              "\n",
              "\tShapiro-Wilk normality test\n",
              "\n",
              "data:  residuals(modelo)\n",
              "W = 0.94236, p-value = 0.2656\n"
            ]
          },
          "metadata": {}
        }
      ]
    },
    {
      "cell_type": "markdown",
      "source": [
        "La hipotesis nula (H0) es que los datos de los residuos son normales, se acepta la hipotesis nula."
      ],
      "metadata": {
        "id": "vwjl-HhDyL0q"
      }
    },
    {
      "cell_type": "markdown",
      "source": [
        "#### Homocedasticidad"
      ],
      "metadata": {
        "id": "YTjQArOuWsaT"
      }
    },
    {
      "cell_type": "code",
      "source": [
        "bptest(modelo)"
      ],
      "metadata": {
        "colab": {
          "base_uri": "https://localhost:8080/",
          "height": 102
        },
        "id": "9YveXuk5Wu1l",
        "outputId": "bf8169ff-6ae2-40b5-8c56-fed3023ae696"
      },
      "execution_count": 16,
      "outputs": [
        {
          "output_type": "display_data",
          "data": {
            "text/plain": [
              "\n",
              "\tstudentized Breusch-Pagan test\n",
              "\n",
              "data:  modelo\n",
              "BP = 6.1634, df = 4, p-value = 0.1873\n"
            ]
          },
          "metadata": {}
        }
      ]
    },
    {
      "cell_type": "markdown",
      "source": [
        "Este test arrojó un $p$ valor de $0.1873$. Dado este $p$ valor no se rechaza la hipótesis nula $(H0)$ de varianzas no significativamentes diferentes. El gráfico siguiente ilustra esta situación. En efecto, no parece haber diferencia significativa en los medios de la caja, para cada tipo de cerveza."
      ],
      "metadata": {
        "id": "no9dTYMmylT7"
      }
    },
    {
      "cell_type": "code",
      "source": [
        "plot(modelo,5)"
      ],
      "metadata": {
        "colab": {
          "base_uri": "https://localhost:8080/",
          "height": 437
        },
        "id": "7M_5YUR6yxNG",
        "outputId": "75929e17-9eb9-43fb-ffd9-032fecc9a33f"
      },
      "execution_count": 17,
      "outputs": [
        {
          "output_type": "display_data",
          "data": {
            "image/png": "[encoded data removed]",
            "text/plain": [
              "Plot with title “”"
            ]
          },
          "metadata": {
            "image/png": {
              "width": 420,
              "height": 420
            }
          }
        }
      ]
    },
    {
      "cell_type": "markdown",
      "source": [
        "#### Independencia"
      ],
      "metadata": {
        "id": "I3w2_f1eXEi6"
      }
    },
    {
      "cell_type": "code",
      "source": [
        "dwtest(modelo)"
      ],
      "metadata": {
        "colab": {
          "base_uri": "https://localhost:8080/",
          "height": 119
        },
        "id": "VFLdYiGHXIIi",
        "outputId": "abbeb393-2e57-46d5-ca86-efb94fe8be15"
      },
      "execution_count": 18,
      "outputs": [
        {
          "output_type": "display_data",
          "data": {
            "text/plain": [
              "\n",
              "\tDurbin-Watson test\n",
              "\n",
              "data:  modelo\n",
              "DW = 2.436, p-value = 0.5258\n",
              "alternative hypothesis: true autocorrelation is greater than 0\n"
            ]
          },
          "metadata": {}
        }
      ]
    },
    {
      "cell_type": "markdown",
      "source": [
        "En efecto, el $p$ valor asociado al test de Durbin - Watson resulta $0.5258$, por lo que no se rechaza la hipótesis nula (H0), y se podría aseverar que hay independencia entre el conjunto de datos bajo análisis"
      ],
      "metadata": {
        "id": "gvmuczYTzyiq"
      }
    },
    {
      "cell_type": "code",
      "source": [
        "plot(modelo,2)"
      ],
      "metadata": {
        "colab": {
          "base_uri": "https://localhost:8080/",
          "height": 437
        },
        "id": "8ebXvlvo0ES1",
        "outputId": "82e3d2a6-73ff-48e8-f68a-a7bf20338521"
      },
      "execution_count": 19,
      "outputs": [
        {
          "output_type": "display_data",
          "data": {
            "image/png": "[encoded data removed]",
            "text/plain": [
              "Plot with title “”"
            ]
          },
          "metadata": {
            "image/png": {
              "width": 420,
              "height": 420
            }
          }
        }
      ]
    },
    {
      "cell_type": "markdown",
      "source": [
        "## Testear la hipótesis con un nivel de confianza del $95$% de que las marcas no difieren en el valor calórico"
      ],
      "metadata": {
        "id": "VnbYTcRxFUrs"
      }
    },
    {
      "cell_type": "code",
      "source": [
        "mean(vc)"
      ],
      "metadata": {
        "colab": {
          "base_uri": "https://localhost:8080/",
          "height": 34
        },
        "id": "TV71MbhohVDN",
        "outputId": "0069216d-47ba-43c1-b23e-3b7dab140f63"
      },
      "execution_count": 20,
      "outputs": [
        {
          "output_type": "display_data",
          "data": {
            "text/plain": [
              "[1] 28.485"
            ],
            "text/latex": "28.485",
            "text/markdown": "28.485",
            "text/html": [
              "28.485"
            ]
          },
          "metadata": {}
        }
      ]
    },
    {
      "cell_type": "code",
      "source": [
        "z.test(vc, sigma.x=20,  conf.level=0.95)"
      ],
      "metadata": {
        "id": "rvjdKHhLFhdU",
        "colab": {
          "base_uri": "https://localhost:8080/",
          "height": 204
        },
        "outputId": "e72395b3-4c22-44be-f40c-1137b7fa3866"
      },
      "execution_count": 21,
      "outputs": [
        {
          "output_type": "display_data",
          "data": {
            "text/plain": [
              "\n",
              "\tOne-sample z-Test\n",
              "\n",
              "data:  vc\n",
              "z = 6.3694, p-value = 1.897e-10\n",
              "alternative hypothesis: true mean is not equal to 0\n",
              "95 percent confidence interval:\n",
              " 19.71977 37.25023\n",
              "sample estimates:\n",
              "mean of x \n",
              "   28.485 \n"
            ]
          },
          "metadata": {}
        }
      ]
    },
    {
      "cell_type": "markdown",
      "source": [
        "## Si las dos primeras marcas corresponden a cervezas blancas y las siguientes tres a cervezas negras, plantear un contraste que permita ver si existen diferencias en el valor calórico entre ambos tipos de cervezas"
      ],
      "metadata": {
        "id": "c_wKs_-kFsfR"
      }
    },
    {
      "cell_type": "code",
      "source": [
        "Tipo=c(rep(\"blanca\",8),rep(\"negra\",12))\n",
        "Tipo=factor(Tipo)"
      ],
      "metadata": {
        "id": "GdvwKOIdFv3t"
      },
      "execution_count": 22,
      "outputs": []
    },
    {
      "cell_type": "code",
      "source": [
        "df1=data.frame(Marca,vc,Tipo)\n",
        "df1"
      ],
      "metadata": {
        "colab": {
          "base_uri": "https://localhost:8080/",
          "height": 717
        },
        "id": "eNdH5iJmi4j_",
        "outputId": "ffd32e96-ea74-4d8f-ae86-ac223ce06b4e"
      },
      "execution_count": 23,
      "outputs": [
        {
          "output_type": "display_data",
          "data": {
            "text/plain": [
              "   Marca vc   Tipo  \n",
              "1  A     31.5 blanca\n",
              "2  A     32.0 blanca\n",
              "3  A     32.7 blanca\n",
              "4  A     30.9 blanca\n",
              "5  B     32.3 blanca\n",
              "6  B     31.9 blanca\n",
              "7  B     33.0 blanca\n",
              "8  B     31.7 blanca\n",
              "9  C     28.8 negra \n",
              "10 C     27.6 negra \n",
              "11 C     29.1 negra \n",
              "12 C     27.7 negra \n",
              "13 D     24.5 negra \n",
              "14 D     25.3 negra \n",
              "15 D     24.9 negra \n",
              "16 D     26.1 negra \n",
              "17 E     25.4 negra \n",
              "18 E     26.3 negra \n",
              "19 E     23.9 negra \n",
              "20 E     24.1 negra "
            ],
            "text/latex": "A data.frame: 20 × 3\n\\begin{tabular}{lll}\n Marca & vc & Tipo\\\\\n <fct> & <dbl> & <fct>\\\\\n\\hline\n\t A & 31.5 & blanca\\\\\n\t A & 32.0 & blanca\\\\\n\t A & 32.7 & blanca\\\\\n\t A & 30.9 & blanca\\\\\n\t B & 32.3 & blanca\\\\\n\t B & 31.9 & blanca\\\\\n\t B & 33.0 & blanca\\\\\n\t B & 31.7 & blanca\\\\\n\t C & 28.8 & negra \\\\\n\t C & 27.6 & negra \\\\\n\t C & 29.1 & negra \\\\\n\t C & 27.7 & negra \\\\\n\t D & 24.5 & negra \\\\\n\t D & 25.3 & negra \\\\\n\t D & 24.9 & negra \\\\\n\t D & 26.1 & negra \\\\\n\t E & 25.4 & negra \\\\\n\t E & 26.3 & negra \\\\\n\t E & 23.9 & negra \\\\\n\t E & 24.1 & negra \\\\\n\\end{tabular}\n",
            "text/markdown": "\nA data.frame: 20 × 3\n\n| Marca &lt;fct&gt; | vc &lt;dbl&gt; | Tipo &lt;fct&gt; |\n|---|---|---|\n| A | 31.5 | blanca |\n| A | 32.0 | blanca |\n| A | 32.7 | blanca |\n| A | 30.9 | blanca |\n| B | 32.3 | blanca |\n| B | 31.9 | blanca |\n| B | 33.0 | blanca |\n| B | 31.7 | blanca |\n| C | 28.8 | negra  |\n| C | 27.6 | negra  |\n| C | 29.1 | negra  |\n| C | 27.7 | negra  |\n| D | 24.5 | negra  |\n| D | 25.3 | negra  |\n| D | 24.9 | negra  |\n| D | 26.1 | negra  |\n| E | 25.4 | negra  |\n| E | 26.3 | negra  |\n| E | 23.9 | negra  |\n| E | 24.1 | negra  |\n\n",
            "text/html": [
              "<table class=\"dataframe\">\n",
              "<caption>A data.frame: 20 × 3</caption>\n",
              "<thead>\n",
              "\t<tr><th scope=col>Marca</th><th scope=col>vc</th><th scope=col>Tipo</th></tr>\n",
              "\t<tr><th scope=col>&lt;fct&gt;</th><th scope=col>&lt;dbl&gt;</th><th scope=col>&lt;fct&gt;</th></tr>\n",
              "</thead>\n",
              "<tbody>\n",
              "\t<tr><td>A</td><td>31.5</td><td>blanca</td></tr>\n",
              "\t<tr><td>A</td><td>32.0</td><td>blanca</td></tr>\n",
              "\t<tr><td>A</td><td>32.7</td><td>blanca</td></tr>\n",
              "\t<tr><td>A</td><td>30.9</td><td>blanca</td></tr>\n",
              "\t<tr><td>B</td><td>32.3</td><td>blanca</td></tr>\n",
              "\t<tr><td>B</td><td>31.9</td><td>blanca</td></tr>\n",
              "\t<tr><td>B</td><td>33.0</td><td>blanca</td></tr>\n",
              "\t<tr><td>B</td><td>31.7</td><td>blanca</td></tr>\n",
              "\t<tr><td>C</td><td>28.8</td><td>negra </td></tr>\n",
              "\t<tr><td>C</td><td>27.6</td><td>negra </td></tr>\n",
              "\t<tr><td>C</td><td>29.1</td><td>negra </td></tr>\n",
              "\t<tr><td>C</td><td>27.7</td><td>negra </td></tr>\n",
              "\t<tr><td>D</td><td>24.5</td><td>negra </td></tr>\n",
              "\t<tr><td>D</td><td>25.3</td><td>negra </td></tr>\n",
              "\t<tr><td>D</td><td>24.9</td><td>negra </td></tr>\n",
              "\t<tr><td>D</td><td>26.1</td><td>negra </td></tr>\n",
              "\t<tr><td>E</td><td>25.4</td><td>negra </td></tr>\n",
              "\t<tr><td>E</td><td>26.3</td><td>negra </td></tr>\n",
              "\t<tr><td>E</td><td>23.9</td><td>negra </td></tr>\n",
              "\t<tr><td>E</td><td>24.1</td><td>negra </td></tr>\n",
              "</tbody>\n",
              "</table>\n"
            ]
          },
          "metadata": {}
        }
      ]
    },
    {
      "cell_type": "code",
      "source": [
        "summary(df1)"
      ],
      "metadata": {
        "colab": {
          "base_uri": "https://localhost:8080/",
          "height": 136
        },
        "id": "HjNtpsfbjB9k",
        "outputId": "ec00b9d7-e744-4894-d54d-17f2ce2099df"
      },
      "execution_count": 24,
      "outputs": [
        {
          "output_type": "display_data",
          "data": {
            "text/plain": [
              " Marca       vc            Tipo   \n",
              " A:4   Min.   :23.90   blanca: 8  \n",
              " B:4   1st Qu.:25.38   negra :12  \n",
              " C:4   Median :28.25              \n",
              " D:4   Mean   :28.48              \n",
              " E:4   3rd Qu.:31.75              \n",
              "       Max.   :33.00              "
            ]
          },
          "metadata": {}
        }
      ]
    },
    {
      "cell_type": "code",
      "source": [
        "attach(df1)"
      ],
      "metadata": {
        "colab": {
          "base_uri": "https://localhost:8080/"
        },
        "id": "4Cn1zowz0tiq",
        "outputId": "df20ce26-9329-419a-e6a1-ee78969f75b2"
      },
      "execution_count": 25,
      "outputs": [
        {
          "output_type": "stream",
          "name": "stderr",
          "text": [
            "The following objects are masked _by_ .GlobalEnv:\n",
            "\n",
            "    Marca, Tipo, vc\n",
            "\n",
            "\n",
            "The following objects are masked from df:\n",
            "\n",
            "    Marca, vc\n",
            "\n",
            "\n"
          ]
        }
      ]
    },
    {
      "cell_type": "markdown",
      "source": [
        "### Modelo de análisis, regresión lineal simple, con un factor de 2 niveles"
      ],
      "metadata": {
        "id": "N2-kTIY91G9A"
      }
    },
    {
      "cell_type": "markdown",
      "source": [
        "El efecto de analizar si existen diferencias significativas entre los valores calóricos de los distintos tipos de cervezas, se ajusta a un modelo lineal de la forma:\n"
      ],
      "metadata": {
        "id": "zPc9Aigx1Sjm"
      }
    },
    {
      "cell_type": "markdown",
      "source": [
        "$vc_{i,j}= \\mu_{i}+\\epsilon_{i,j}$"
      ],
      "metadata": {
        "id": "tN-bjceE1gHn"
      }
    },
    {
      "cell_type": "markdown",
      "source": [
        "Donde:\n",
        "\n",
        "- $i=BLANCA,NEGRA$\n",
        "- $j=23.90,..,33$\n",
        "- $vc_{i,j}$ es la observacion de las muestras de valores calóricos de los distintos tipos de cerveza $i,j$\n",
        "- $\\mu_i$ es el valor medio de la muestra de tipos de cerveza $i$\n",
        "- $\\epsilon_{i,j}$ es la variable aleatoria que representa la oscilación - error de los valores calóricos de las cervezas."
      ],
      "metadata": {
        "id": "v7u6INog1h2e"
      }
    },
    {
      "cell_type": "code",
      "source": [
        "modelo1=lm(vc~Tipo-1)\n",
        "summary(modelo1)"
      ],
      "metadata": {
        "colab": {
          "base_uri": "https://localhost:8080/",
          "height": 323
        },
        "id": "HgBWWoR1jHEa",
        "outputId": "d2bda0df-1bf3-4f8a-e0ed-9d8f137a8fae"
      },
      "execution_count": 26,
      "outputs": [
        {
          "output_type": "display_data",
          "data": {
            "text/plain": [
              "\n",
              "Call:\n",
              "lm(formula = vc ~ Tipo - 1)\n",
              "\n",
              "Residuals:\n",
              "     Min       1Q   Median       3Q      Max \n",
              "-2.24167 -0.90625 -0.07083  0.77500  2.95833 \n",
              "\n",
              "Coefficients:\n",
              "           Estimate Std. Error t value Pr(>|t|)    \n",
              "Tipoblanca  32.0000     0.5152   62.11   <2e-16 ***\n",
              "Tiponegra   26.1417     0.4207   62.14   <2e-16 ***\n",
              "---\n",
              "Signif. codes:  0 ‘***’ 0.001 ‘**’ 0.01 ‘*’ 0.05 ‘.’ 0.1 ‘ ’ 1\n",
              "\n",
              "Residual standard error: 1.457 on 18 degrees of freedom\n",
              "Multiple R-squared:  0.9977,\tAdjusted R-squared:  0.9974 \n",
              "F-statistic:  3859 on 2 and 18 DF,  p-value: < 2.2e-16\n"
            ]
          },
          "metadata": {}
        }
      ]
    },
    {
      "cell_type": "markdown",
      "source": [
        "## Mediante el test de tukey analizar si hay diferencias entre los tipos de cerveza"
      ],
      "metadata": {
        "id": "aee26j8BF1Fv"
      }
    },
    {
      "cell_type": "markdown",
      "source": [
        "### Para los diferentes tipos de cerveza"
      ],
      "metadata": {
        "id": "zVF9xa8B4yI1"
      }
    },
    {
      "cell_type": "code",
      "source": [
        "ajuste1=aov(vc~Tipo-1)\n",
        "compara1=glht(ajuste1,mcp(Tipo=\"Tukey\"))\n",
        "summary(compara1)"
      ],
      "metadata": {
        "id": "14lHWieaF6-3",
        "colab": {
          "base_uri": "https://localhost:8080/",
          "height": 255
        },
        "outputId": "ef5d8014-e7ac-48c9-c5ee-ac96735a3c88"
      },
      "execution_count": 27,
      "outputs": [
        {
          "output_type": "display_data",
          "data": {
            "text/plain": [
              "\n",
              "\t Simultaneous Tests for General Linear Hypotheses\n",
              "\n",
              "Multiple Comparisons of Means: Tukey Contrasts\n",
              "\n",
              "\n",
              "Fit: aov(formula = vc ~ Tipo - 1)\n",
              "\n",
              "Linear Hypotheses:\n",
              "                    Estimate Std. Error t value Pr(>|t|)    \n",
              "negra - blanca == 0  -5.8583     0.6652  -8.807 6.07e-08 ***\n",
              "---\n",
              "Signif. codes:  0 ‘***’ 0.001 ‘**’ 0.01 ‘*’ 0.05 ‘.’ 0.1 ‘ ’ 1\n",
              "(Adjusted p values reported -- single-step method)\n"
            ]
          },
          "metadata": {}
        }
      ]
    },
    {
      "cell_type": "markdown",
      "source": [
        "De acuerdo a estos resultados, hay diferencias significativas entre el tipo de cerveza negra y el tipo de cerveza blanca"
      ],
      "metadata": {
        "id": "UKEJjDVz32Pq"
      }
    },
    {
      "cell_type": "code",
      "source": [
        "plot(compara1)"
      ],
      "metadata": {
        "colab": {
          "base_uri": "https://localhost:8080/",
          "height": 437
        },
        "id": "ewgLKaC_mTFv",
        "outputId": "5fbe3aa6-6bb8-4555-97ab-43ca8740a315"
      },
      "execution_count": 28,
      "outputs": [
        {
          "output_type": "display_data",
          "data": {
            "image/png": "[encoded data removed]",
            "text/plain": [
              "Plot with title “95% family-wise confidence level\n",
              "”"
            ]
          },
          "metadata": {
            "image/png": {
              "width": 420,
              "height": 420
            }
          }
        }
      ]
    },
    {
      "cell_type": "markdown",
      "source": [
        "### Para las diferentes marcas de cerveza"
      ],
      "metadata": {
        "id": "nTeOjZsL44-f"
      }
    },
    {
      "cell_type": "code",
      "source": [
        "ajuste2=aov(vc~Marca-1)\n",
        "compara2=glht(ajuste2,mcp(Marca=\"Tukey\"))\n",
        "summary(compara2)"
      ],
      "metadata": {
        "colab": {
          "base_uri": "https://localhost:8080/",
          "height": 408
        },
        "id": "nsZElIuglyYD",
        "outputId": "35af1574-1372-4071-bb70-c267cdc4bd03"
      },
      "execution_count": 29,
      "outputs": [
        {
          "output_type": "display_data",
          "data": {
            "text/plain": [
              "\n",
              "\t Simultaneous Tests for General Linear Hypotheses\n",
              "\n",
              "Multiple Comparisons of Means: Tukey Contrasts\n",
              "\n",
              "\n",
              "Fit: aov(formula = vc ~ Marca - 1)\n",
              "\n",
              "Linear Hypotheses:\n",
              "           Estimate Std. Error t value Pr(>|t|)    \n",
              "B - A == 0   0.4500     0.5693   0.790 0.929458    \n",
              "C - A == 0  -3.4750     0.5693  -6.104 0.000165 ***\n",
              "D - A == 0  -6.5750     0.5693 -11.550  < 1e-04 ***\n",
              "E - A == 0  -6.8500     0.5693 -12.033  < 1e-04 ***\n",
              "C - B == 0  -3.9250     0.5693  -6.895  < 1e-04 ***\n",
              "D - B == 0  -7.0250     0.5693 -12.340  < 1e-04 ***\n",
              "E - B == 0  -7.3000     0.5693 -12.823  < 1e-04 ***\n",
              "D - C == 0  -3.1000     0.5693  -5.445 0.000549 ***\n",
              "E - C == 0  -3.3750     0.5693  -5.929 0.000223 ***\n",
              "E - D == 0  -0.2750     0.5693  -0.483 0.987785    \n",
              "---\n",
              "Signif. codes:  0 ‘***’ 0.001 ‘**’ 0.01 ‘*’ 0.05 ‘.’ 0.1 ‘ ’ 1\n",
              "(Adjusted p values reported -- single-step method)\n"
            ]
          },
          "metadata": {}
        }
      ]
    },
    {
      "cell_type": "code",
      "source": [
        "plot(compara2)"
      ],
      "metadata": {
        "colab": {
          "base_uri": "https://localhost:8080/",
          "height": 437
        },
        "id": "uJ4CIhocmMzc",
        "outputId": "11967ea4-7172-4e4f-d3e2-1e9616eb8b07"
      },
      "execution_count": 30,
      "outputs": [
        {
          "output_type": "display_data",
          "data": {
            "image/png": "[encoded data removed]",
            "text/plain": [
              "Plot with title “95% family-wise confidence level\n",
              "”"
            ]
          },
          "metadata": {
            "image/png": {
              "width": 420,
              "height": 420
            }
          }
        }
      ]
    },
    {
      "cell_type": "markdown",
      "source": [
        "Se realizan comparaciones múltiples entre los valores calóricos medios por cada marca de cerveza, a través del test de Tukey, arrojando que no habrian diferencias significativas entre la marca A y la marca B, y tampoco lo habría entre la marca E y la marca D. \n"
      ],
      "metadata": {
        "id": "Rn_vZDI127N6"
      }
    },
    {
      "cell_type": "markdown",
      "source": [
        "## Hallar un intervalo de confianza del $95$% para la diferencia entre las marcas con mayor y menor valor calórico"
      ],
      "metadata": {
        "id": "seMQAgvSF7ep"
      }
    },
    {
      "cell_type": "code",
      "source": [
        "mean(m1)"
      ],
      "metadata": {
        "id": "r2Yn_kQRGJ5P",
        "colab": {
          "base_uri": "https://localhost:8080/",
          "height": 34
        },
        "outputId": "36bb5e2c-86b9-485c-b4fd-7c93935f3d93"
      },
      "execution_count": 31,
      "outputs": [
        {
          "output_type": "display_data",
          "data": {
            "text/plain": [
              "[1] 31.775"
            ],
            "text/latex": "31.775",
            "text/markdown": "31.775",
            "text/html": [
              "31.775"
            ]
          },
          "metadata": {}
        }
      ]
    },
    {
      "cell_type": "code",
      "source": [
        "mean(m2)"
      ],
      "metadata": {
        "colab": {
          "base_uri": "https://localhost:8080/",
          "height": 34
        },
        "id": "QIjbusSm5Rec",
        "outputId": "2142def5-c0de-4156-ac4d-6c5709c1f941"
      },
      "execution_count": 32,
      "outputs": [
        {
          "output_type": "display_data",
          "data": {
            "text/plain": [
              "[1] 32.225"
            ],
            "text/latex": "32.225",
            "text/markdown": "32.225",
            "text/html": [
              "32.225"
            ]
          },
          "metadata": {}
        }
      ]
    },
    {
      "cell_type": "code",
      "source": [
        "mean(m3)"
      ],
      "metadata": {
        "colab": {
          "base_uri": "https://localhost:8080/",
          "height": 34
        },
        "id": "2KW0dNZb5Yx8",
        "outputId": "fc0d3a4e-d9c6-4b33-8e0a-e443beb565ad"
      },
      "execution_count": 33,
      "outputs": [
        {
          "output_type": "display_data",
          "data": {
            "text/plain": [
              "[1] 28.3"
            ],
            "text/latex": "28.3",
            "text/markdown": "28.3",
            "text/html": [
              "28.3"
            ]
          },
          "metadata": {}
        }
      ]
    },
    {
      "cell_type": "code",
      "source": [
        "mean(m4)"
      ],
      "metadata": {
        "colab": {
          "base_uri": "https://localhost:8080/",
          "height": 34
        },
        "id": "ODuHPaVg5a6K",
        "outputId": "ed67a919-5757-400c-bac7-17c826cddf24"
      },
      "execution_count": 34,
      "outputs": [
        {
          "output_type": "display_data",
          "data": {
            "text/plain": [
              "[1] 25.2"
            ],
            "text/latex": "25.2",
            "text/markdown": "25.2",
            "text/html": [
              "25.2"
            ]
          },
          "metadata": {}
        }
      ]
    },
    {
      "cell_type": "code",
      "source": [
        "mean(m5)"
      ],
      "metadata": {
        "colab": {
          "base_uri": "https://localhost:8080/",
          "height": 34
        },
        "id": "PF74u4735c-s",
        "outputId": "25519e3b-9a6e-4eec-97e8-ca41ef996e67"
      },
      "execution_count": 35,
      "outputs": [
        {
          "output_type": "display_data",
          "data": {
            "text/plain": [
              "[1] 24.925"
            ],
            "text/latex": "24.925",
            "text/markdown": "24.925",
            "text/html": [
              "24.925"
            ]
          },
          "metadata": {}
        }
      ]
    },
    {
      "cell_type": "markdown",
      "source": [
        "### Muestra con mayor valor calorico"
      ],
      "metadata": {
        "id": "YBIcW31F5p8F"
      }
    },
    {
      "cell_type": "code",
      "source": [
        "z.test(m2, sigma.x=4,  conf.level=0.95)"
      ],
      "metadata": {
        "colab": {
          "base_uri": "https://localhost:8080/",
          "height": 204
        },
        "id": "jjvZRFTc5v-9",
        "outputId": "5a74d1ac-e17b-4e5d-f71d-452c84b106d2"
      },
      "execution_count": 36,
      "outputs": [
        {
          "output_type": "display_data",
          "data": {
            "text/plain": [
              "\n",
              "\tOne-sample z-Test\n",
              "\n",
              "data:  m2\n",
              "z = 16.113, p-value < 2.2e-16\n",
              "alternative hypothesis: true mean is not equal to 0\n",
              "95 percent confidence interval:\n",
              " 28.30507 36.14493\n",
              "sample estimates:\n",
              "mean of x \n",
              "   32.225 \n"
            ]
          },
          "metadata": {}
        }
      ]
    },
    {
      "cell_type": "markdown",
      "source": [
        "### Muestra con menor valor calorico"
      ],
      "metadata": {
        "id": "mezJCN035ww3"
      }
    },
    {
      "cell_type": "code",
      "source": [
        "z.test(m5, sigma.x=4,  conf.level=0.95)"
      ],
      "metadata": {
        "colab": {
          "base_uri": "https://localhost:8080/",
          "height": 204
        },
        "id": "aqMJr01h50iK",
        "outputId": "9b138c9a-6e52-4041-888f-663f1d8c3070"
      },
      "execution_count": 37,
      "outputs": [
        {
          "output_type": "display_data",
          "data": {
            "text/plain": [
              "\n",
              "\tOne-sample z-Test\n",
              "\n",
              "data:  m5\n",
              "z = 12.463, p-value < 2.2e-16\n",
              "alternative hypothesis: true mean is not equal to 0\n",
              "95 percent confidence interval:\n",
              " 21.00507 28.84493\n",
              "sample estimates:\n",
              "mean of x \n",
              "   24.925 \n"
            ]
          },
          "metadata": {}
        }
      ]
    }
  ]
}