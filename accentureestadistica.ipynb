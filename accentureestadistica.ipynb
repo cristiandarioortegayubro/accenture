{
  "nbformat": 4,
  "nbformat_minor": 0,
  "metadata": {
    "colab": {
      "name": "accentureestadistica.ipynb",
      "provenance": [],
      "toc_visible": true,
      "authorship_tag": "ABX9TyPUUlIGnAnFlndhofBoz59g",
      "include_colab_link": true
    },
    "kernelspec": {
      "name": "ir",
      "display_name": "R"
    },
    "language_info": {
      "name": "R"
    }
  },
  "cells": [
    {
      "cell_type": "markdown",
      "metadata": {
        "id": "view-in-github",
        "colab_type": "text"
      },
      "source": [
        "<a href=\"https://colab.research.google.com/github/cristiandarioortegayubro/accenture/blob/main/accentureestadistica.ipynb\" target=\"_parent\"><img src=\"https://colab.research.google.com/assets/colab-badge.svg\" alt=\"Open In Colab\"/></a>"
      ]
    },
    {
      "cell_type": "markdown",
      "source": [
        "![texto del vínculo](https://www.accenture.com/t20180820T081710Z__w__/il-en/_acnmedia/Accenture/Dev/Redesign/Acc_Logo_Black_Purple_RGB.PNG)"
      ],
      "metadata": {
        "id": "To7js_RDU2FC"
      }
    },
    {
      "cell_type": "markdown",
      "source": [
        "# Estadística\n",
        "~~~python\n",
        "Cdor. Cristian Darío Ortega Yubro\n",
        "~~~"
      ],
      "metadata": {
        "id": "_R8nl8qaVHQ0"
      }
    },
    {
      "cell_type": "markdown",
      "source": [
        "Se tomaron cuatro muestras al azar para cinco marcas de cerveza elegidas también en forma aleatoria dentro de las marcas de mayor venta en el país. A ellas se les determinó el valor calórico expresado en calorías por 100 ml, y se desea saber si las marcas difieren en cuanto a la variable de respuesta analizada. \n"
      ],
      "metadata": {
        "id": "ZzZ-IdWgrF_W"
      }
    },
    {
      "cell_type": "markdown",
      "source": [
        "![texto del vínculo](https://github.com/cristiandarioortegayubro/accenture/blob/main/datos.png?raw=true)"
      ],
      "metadata": {
        "id": "6LBXcCmDrm-2"
      }
    },
    {
      "cell_type": "markdown",
      "source": [
        "## Muestras"
      ],
      "metadata": {
        "id": "P5kxyNdG5zA5"
      }
    },
    {
      "cell_type": "code",
      "execution_count": 1,
      "metadata": {
        "id": "AiQ_oekUUzl1"
      },
      "outputs": [],
      "source": [
        "Marca=c(rep(\"A\",4),rep(\"B\",4),rep(\"C\",4),rep(\"D\",4),rep(\"E\",4))\n",
        "Marca=factor(Marca)"
      ]
    },
    {
      "cell_type": "code",
      "source": [
        "m1=c(31.5,32,32.7,30.9)\n",
        "m2=c(32.3,31.9,33,31.7)\n",
        "m3=c(28.8,27.6,29.1,27.7)\n",
        "m4=c(24.5,25.3,24.9,26.1)\n",
        "m5=c(25.4,26.3,23.9,24.1)"
      ],
      "metadata": {
        "id": "mNsWa5MkatNR"
      },
      "execution_count": 2,
      "outputs": []
    },
    {
      "cell_type": "code",
      "source": [
        "vc=c(m1,m2,m3,m4,m5)"
      ],
      "metadata": {
        "id": "ECEa8NcGbeTk"
      },
      "execution_count": 3,
      "outputs": []
    },
    {
      "cell_type": "code",
      "source": [
        "options=c(\"contr.sum\",\"contr.poly\")"
      ],
      "metadata": {
        "id": "hgFq-54cb75y"
      },
      "execution_count": 4,
      "outputs": []
    },
    {
      "cell_type": "markdown",
      "source": [
        "## Dataframe"
      ],
      "metadata": {
        "id": "_c7Bxn_a52C9"
      }
    },
    {
      "cell_type": "code",
      "source": [
        "df=data.frame(Marca,vc)\n",
        "df"
      ],
      "metadata": {
        "colab": {
          "base_uri": "https://localhost:8080/",
          "height": 734
        },
        "id": "fzpnfR3K6GAX",
        "outputId": "0a3bebe1-8680-4172-e48a-69307c06cdfb"
      },
      "execution_count": 5,
      "outputs": [
        {
          "output_type": "display_data",
          "data": {
            "text/plain": [
              "   Marca vc  \n",
              "1  A     31.5\n",
              "2  A     32.0\n",
              "3  A     32.7\n",
              "4  A     30.9\n",
              "5  B     32.3\n",
              "6  B     31.9\n",
              "7  B     33.0\n",
              "8  B     31.7\n",
              "9  C     28.8\n",
              "10 C     27.6\n",
              "11 C     29.1\n",
              "12 C     27.7\n",
              "13 D     24.5\n",
              "14 D     25.3\n",
              "15 D     24.9\n",
              "16 D     26.1\n",
              "17 E     25.4\n",
              "18 E     26.3\n",
              "19 E     23.9\n",
              "20 E     24.1"
            ],
            "text/latex": "A data.frame: 20 × 2\n\\begin{tabular}{ll}\n Marca & vc\\\\\n <fct> & <dbl>\\\\\n\\hline\n\t A & 31.5\\\\\n\t A & 32.0\\\\\n\t A & 32.7\\\\\n\t A & 30.9\\\\\n\t B & 32.3\\\\\n\t B & 31.9\\\\\n\t B & 33.0\\\\\n\t B & 31.7\\\\\n\t C & 28.8\\\\\n\t C & 27.6\\\\\n\t C & 29.1\\\\\n\t C & 27.7\\\\\n\t D & 24.5\\\\\n\t D & 25.3\\\\\n\t D & 24.9\\\\\n\t D & 26.1\\\\\n\t E & 25.4\\\\\n\t E & 26.3\\\\\n\t E & 23.9\\\\\n\t E & 24.1\\\\\n\\end{tabular}\n",
            "text/markdown": "\nA data.frame: 20 × 2\n\n| Marca &lt;fct&gt; | vc &lt;dbl&gt; |\n|---|---|\n| A | 31.5 |\n| A | 32.0 |\n| A | 32.7 |\n| A | 30.9 |\n| B | 32.3 |\n| B | 31.9 |\n| B | 33.0 |\n| B | 31.7 |\n| C | 28.8 |\n| C | 27.6 |\n| C | 29.1 |\n| C | 27.7 |\n| D | 24.5 |\n| D | 25.3 |\n| D | 24.9 |\n| D | 26.1 |\n| E | 25.4 |\n| E | 26.3 |\n| E | 23.9 |\n| E | 24.1 |\n\n",
            "text/html": [
              "<table class=\"dataframe\">\n",
              "<caption>A data.frame: 20 × 2</caption>\n",
              "<thead>\n",
              "\t<tr><th scope=col>Marca</th><th scope=col>vc</th></tr>\n",
              "\t<tr><th scope=col>&lt;fct&gt;</th><th scope=col>&lt;dbl&gt;</th></tr>\n",
              "</thead>\n",
              "<tbody>\n",
              "\t<tr><td>A</td><td>31.5</td></tr>\n",
              "\t<tr><td>A</td><td>32.0</td></tr>\n",
              "\t<tr><td>A</td><td>32.7</td></tr>\n",
              "\t<tr><td>A</td><td>30.9</td></tr>\n",
              "\t<tr><td>B</td><td>32.3</td></tr>\n",
              "\t<tr><td>B</td><td>31.9</td></tr>\n",
              "\t<tr><td>B</td><td>33.0</td></tr>\n",
              "\t<tr><td>B</td><td>31.7</td></tr>\n",
              "\t<tr><td>C</td><td>28.8</td></tr>\n",
              "\t<tr><td>C</td><td>27.6</td></tr>\n",
              "\t<tr><td>C</td><td>29.1</td></tr>\n",
              "\t<tr><td>C</td><td>27.7</td></tr>\n",
              "\t<tr><td>D</td><td>24.5</td></tr>\n",
              "\t<tr><td>D</td><td>25.3</td></tr>\n",
              "\t<tr><td>D</td><td>24.9</td></tr>\n",
              "\t<tr><td>D</td><td>26.1</td></tr>\n",
              "\t<tr><td>E</td><td>25.4</td></tr>\n",
              "\t<tr><td>E</td><td>26.3</td></tr>\n",
              "\t<tr><td>E</td><td>23.9</td></tr>\n",
              "\t<tr><td>E</td><td>24.1</td></tr>\n",
              "</tbody>\n",
              "</table>\n"
            ]
          },
          "metadata": {}
        }
      ]
    },
    {
      "cell_type": "code",
      "source": [
        "summary(df)"
      ],
      "metadata": {
        "colab": {
          "base_uri": "https://localhost:8080/",
          "height": 136
        },
        "id": "SS__WhulOrET",
        "outputId": "38344daf-c81e-416d-d86e-97f75a8f1c68"
      },
      "execution_count": 6,
      "outputs": [
        {
          "output_type": "display_data",
          "data": {
            "text/plain": [
              " Marca       vc       \n",
              " A:4   Min.   :23.90  \n",
              " B:4   1st Qu.:25.38  \n",
              " C:4   Median :28.25  \n",
              " D:4   Mean   :28.48  \n",
              " E:4   3rd Qu.:31.75  \n",
              "       Max.   :33.00  "
            ]
          },
          "metadata": {}
        }
      ]
    },
    {
      "cell_type": "markdown",
      "source": [
        "## Librerías necesarias"
      ],
      "metadata": {
        "id": "JjeyLS84FXxR"
      }
    },
    {
      "cell_type": "markdown",
      "source": [
        "### Instalando librerías"
      ],
      "metadata": {
        "id": "m8P1eZGHGt6m"
      }
    },
    {
      "cell_type": "code",
      "source": [
        "install.packages(\"lmtest\")"
      ],
      "metadata": {
        "colab": {
          "base_uri": "https://localhost:8080/"
        },
        "id": "BKFO7__wGpzV",
        "outputId": "51e2fe4a-7ca0-41d1-9c56-ecb451085475"
      },
      "execution_count": 7,
      "outputs": [
        {
          "output_type": "stream",
          "name": "stderr",
          "text": [
            "Installing package into ‘/usr/local/lib/R/site-library’\n",
            "(as ‘lib’ is unspecified)\n",
            "\n"
          ]
        }
      ]
    },
    {
      "cell_type": "code",
      "source": [
        "install.packages(\"BSDA\")"
      ],
      "metadata": {
        "colab": {
          "base_uri": "https://localhost:8080/"
        },
        "id": "7kzHVIWOgYaX",
        "outputId": "ebe7299f-f798-482f-86d3-7f960cbbd80e"
      },
      "execution_count": 23,
      "outputs": [
        {
          "output_type": "stream",
          "name": "stderr",
          "text": [
            "Installing package into ‘/usr/local/lib/R/site-library’\n",
            "(as ‘lib’ is unspecified)\n",
            "\n",
            "also installing the dependencies ‘proxy’, ‘e1071’\n",
            "\n",
            "\n"
          ]
        }
      ]
    },
    {
      "cell_type": "code",
      "source": [
        "install.packages(\"multcomp\")"
      ],
      "metadata": {
        "colab": {
          "base_uri": "https://localhost:8080/"
        },
        "id": "HDWIOJVIkkq9",
        "outputId": "573a61bd-f722-425f-c648-033dd1aa4fcf"
      },
      "execution_count": 35,
      "outputs": [
        {
          "output_type": "stream",
          "name": "stderr",
          "text": [
            "Installing package into ‘/usr/local/lib/R/site-library’\n",
            "(as ‘lib’ is unspecified)\n",
            "\n",
            "also installing the dependencies ‘mvtnorm’, ‘TH.data’, ‘sandwich’\n",
            "\n",
            "\n"
          ]
        }
      ]
    },
    {
      "cell_type": "markdown",
      "source": [
        "### Para el desarrollo del modelo"
      ],
      "metadata": {
        "id": "nSMqsvpPG0yA"
      }
    },
    {
      "cell_type": "code",
      "source": [
        "library(lmtest)\n",
        "library(BSDA)\n",
        "library(multcomp)"
      ],
      "metadata": {
        "colab": {
          "base_uri": "https://localhost:8080/"
        },
        "id": "9G7lWcmtFa03",
        "outputId": "6400c32b-c20c-456f-f7ba-88b488729458"
      },
      "execution_count": 36,
      "outputs": [
        {
          "output_type": "stream",
          "name": "stderr",
          "text": [
            "Loading required package: mvtnorm\n",
            "\n",
            "Loading required package: survival\n",
            "\n",
            "Loading required package: TH.data\n",
            "\n",
            "Loading required package: MASS\n",
            "\n",
            "\n",
            "Attaching package: ‘TH.data’\n",
            "\n",
            "\n",
            "The following object is masked from ‘package:MASS’:\n",
            "\n",
            "    geyser\n",
            "\n",
            "\n"
          ]
        }
      ]
    },
    {
      "cell_type": "markdown",
      "source": [
        "### Para análisis gráfico"
      ],
      "metadata": {
        "id": "b1_GwZa9X9-X"
      }
    },
    {
      "cell_type": "code",
      "source": [
        "library(ggplot2)"
      ],
      "metadata": {
        "id": "OYhzpVgKYBn0"
      },
      "execution_count": 9,
      "outputs": []
    },
    {
      "cell_type": "markdown",
      "source": [
        "## Plantear el modelo de análisis y supuestos"
      ],
      "metadata": {
        "id": "x5yua0EUFO9L"
      }
    },
    {
      "cell_type": "markdown",
      "source": [
        "### Modelo de análisis, regresión lineal simple, con un factor de 5 niveles"
      ],
      "metadata": {
        "id": "7OzE0OROJkN3"
      }
    },
    {
      "cell_type": "code",
      "source": [
        "modelo=lm(vc~Marca-1)\n",
        "summary(modelo)"
      ],
      "metadata": {
        "id": "-S1B0ok4FTrI",
        "colab": {
          "base_uri": "https://localhost:8080/",
          "height": 374
        },
        "outputId": "7765afb1-8c3b-4264-a79d-3e4ad9ab6c24"
      },
      "execution_count": 10,
      "outputs": [
        {
          "output_type": "display_data",
          "data": {
            "text/plain": [
              "\n",
              "Call:\n",
              "lm(formula = vc ~ Marca - 1)\n",
              "\n",
              "Residuals:\n",
              "    Min      1Q  Median      3Q     Max \n",
              "-1.0250 -0.6250 -0.1000  0.5687  1.3750 \n",
              "\n",
              "Coefficients:\n",
              "       Estimate Std. Error t value Pr(>|t|)    \n",
              "MarcaA  31.7750     0.4025   78.94   <2e-16 ***\n",
              "MarcaB  32.2250     0.4025   80.05   <2e-16 ***\n",
              "MarcaC  28.3000     0.4025   70.30   <2e-16 ***\n",
              "MarcaD  25.2000     0.4025   62.60   <2e-16 ***\n",
              "MarcaE  24.9250     0.4025   61.92   <2e-16 ***\n",
              "---\n",
              "Signif. codes:  0 ‘***’ 0.001 ‘**’ 0.01 ‘*’ 0.05 ‘.’ 0.1 ‘ ’ 1\n",
              "\n",
              "Residual standard error: 0.8051 on 15 degrees of freedom\n",
              "Multiple R-squared:  0.9994,\tAdjusted R-squared:  0.9992 \n",
              "F-statistic:  5067 on 5 and 15 DF,  p-value: < 2.2e-16\n"
            ]
          },
          "metadata": {}
        }
      ]
    },
    {
      "cell_type": "markdown",
      "source": [
        "### Supuestos del módelo, normalidad, homocedasticidad e independencia"
      ],
      "metadata": {
        "id": "BkLnmPeyJojw"
      }
    },
    {
      "cell_type": "markdown",
      "source": [
        "#### Normalidad"
      ],
      "metadata": {
        "id": "yyk0x8goWlZk"
      }
    },
    {
      "cell_type": "code",
      "source": [
        "shapiro.test(rstandard(modelo))"
      ],
      "metadata": {
        "id": "DEx0S5tUJwR4",
        "colab": {
          "base_uri": "https://localhost:8080/",
          "height": 102
        },
        "outputId": "af6330c8-fdeb-4b90-c5df-3c65689fadb6"
      },
      "execution_count": 11,
      "outputs": [
        {
          "output_type": "display_data",
          "data": {
            "text/plain": [
              "\n",
              "\tShapiro-Wilk normality test\n",
              "\n",
              "data:  rstandard(modelo)\n",
              "W = 0.94236, p-value = 0.2656\n"
            ]
          },
          "metadata": {}
        }
      ]
    },
    {
      "cell_type": "markdown",
      "source": [
        "#### Homocedasticidad"
      ],
      "metadata": {
        "id": "YTjQArOuWsaT"
      }
    },
    {
      "cell_type": "code",
      "source": [
        "bptest(modelo)"
      ],
      "metadata": {
        "colab": {
          "base_uri": "https://localhost:8080/",
          "height": 102
        },
        "id": "9YveXuk5Wu1l",
        "outputId": "8a00a24a-d2aa-4120-aa3a-1a90559bdcfd"
      },
      "execution_count": 12,
      "outputs": [
        {
          "output_type": "display_data",
          "data": {
            "text/plain": [
              "\n",
              "\tstudentized Breusch-Pagan test\n",
              "\n",
              "data:  modelo\n",
              "BP = 6.1634, df = 4, p-value = 0.1873\n"
            ]
          },
          "metadata": {}
        }
      ]
    },
    {
      "cell_type": "markdown",
      "source": [
        "#### Independencia"
      ],
      "metadata": {
        "id": "I3w2_f1eXEi6"
      }
    },
    {
      "cell_type": "code",
      "source": [
        "dwtest(modelo)"
      ],
      "metadata": {
        "colab": {
          "base_uri": "https://localhost:8080/",
          "height": 119
        },
        "id": "VFLdYiGHXIIi",
        "outputId": "65633e9f-fdad-4867-98fd-944f360f5631"
      },
      "execution_count": 13,
      "outputs": [
        {
          "output_type": "display_data",
          "data": {
            "text/plain": [
              "\n",
              "\tDurbin-Watson test\n",
              "\n",
              "data:  modelo\n",
              "DW = 2.436, p-value = 0.5258\n",
              "alternative hypothesis: true autocorrelation is greater than 0\n"
            ]
          },
          "metadata": {}
        }
      ]
    },
    {
      "cell_type": "markdown",
      "source": [
        "## Testear la hipótesis con un nivel de confianza del $95$% de que las marcas no difieren en el valor calórico"
      ],
      "metadata": {
        "id": "VnbYTcRxFUrs"
      }
    },
    {
      "cell_type": "code",
      "source": [
        "mean(vc)"
      ],
      "metadata": {
        "colab": {
          "base_uri": "https://localhost:8080/",
          "height": 34
        },
        "id": "TV71MbhohVDN",
        "outputId": "1161d3a9-0e35-4035-9c01-c19099e49697"
      },
      "execution_count": 27,
      "outputs": [
        {
          "output_type": "display_data",
          "data": {
            "text/plain": [
              "[1] 28.485"
            ],
            "text/latex": "28.485",
            "text/markdown": "28.485",
            "text/html": [
              "28.485"
            ]
          },
          "metadata": {}
        }
      ]
    },
    {
      "cell_type": "code",
      "source": [
        "z.test(vc, sigma.x=20,  conf.level = 0.95)"
      ],
      "metadata": {
        "id": "rvjdKHhLFhdU",
        "colab": {
          "base_uri": "https://localhost:8080/",
          "height": 204
        },
        "outputId": "91f75a68-e68d-46e1-fce8-e774ca50a5f7"
      },
      "execution_count": 29,
      "outputs": [
        {
          "output_type": "display_data",
          "data": {
            "text/plain": [
              "\n",
              "\tOne-sample z-Test\n",
              "\n",
              "data:  vc\n",
              "z = 6.3694, p-value = 1.897e-10\n",
              "alternative hypothesis: true mean is not equal to 0\n",
              "95 percent confidence interval:\n",
              " 19.71977 37.25023\n",
              "sample estimates:\n",
              "mean of x \n",
              "   28.485 \n"
            ]
          },
          "metadata": {}
        }
      ]
    },
    {
      "cell_type": "markdown",
      "source": [
        "## Si las dos primeras marcas corresponden a cervezas blancas y las siguientes tres a cervezas negras, plantear un contraste que permita ver si existen diferencias en el valor calórico entre ambos tipos de cervezas"
      ],
      "metadata": {
        "id": "c_wKs_-kFsfR"
      }
    },
    {
      "cell_type": "code",
      "source": [
        "Tipo=c(rep(\"blanca\",8),rep(\"negra\",12))\n",
        "Tipo=factor(Tipo)"
      ],
      "metadata": {
        "id": "GdvwKOIdFv3t"
      },
      "execution_count": 30,
      "outputs": []
    },
    {
      "cell_type": "code",
      "source": [
        "df=data.frame(Marca,vc,Tipo)\n",
        "df"
      ],
      "metadata": {
        "colab": {
          "base_uri": "https://localhost:8080/",
          "height": 717
        },
        "id": "eNdH5iJmi4j_",
        "outputId": "0b368b1b-e977-4b59-f236-735920aad0fa"
      },
      "execution_count": 31,
      "outputs": [
        {
          "output_type": "display_data",
          "data": {
            "text/plain": [
              "   Marca vc   Tipo  \n",
              "1  A     31.5 blanca\n",
              "2  A     32.0 blanca\n",
              "3  A     32.7 blanca\n",
              "4  A     30.9 blanca\n",
              "5  B     32.3 blanca\n",
              "6  B     31.9 blanca\n",
              "7  B     33.0 blanca\n",
              "8  B     31.7 blanca\n",
              "9  C     28.8 negra \n",
              "10 C     27.6 negra \n",
              "11 C     29.1 negra \n",
              "12 C     27.7 negra \n",
              "13 D     24.5 negra \n",
              "14 D     25.3 negra \n",
              "15 D     24.9 negra \n",
              "16 D     26.1 negra \n",
              "17 E     25.4 negra \n",
              "18 E     26.3 negra \n",
              "19 E     23.9 negra \n",
              "20 E     24.1 negra "
            ],
            "text/latex": "A data.frame: 20 × 3\n\\begin{tabular}{lll}\n Marca & vc & Tipo\\\\\n <fct> & <dbl> & <fct>\\\\\n\\hline\n\t A & 31.5 & blanca\\\\\n\t A & 32.0 & blanca\\\\\n\t A & 32.7 & blanca\\\\\n\t A & 30.9 & blanca\\\\\n\t B & 32.3 & blanca\\\\\n\t B & 31.9 & blanca\\\\\n\t B & 33.0 & blanca\\\\\n\t B & 31.7 & blanca\\\\\n\t C & 28.8 & negra \\\\\n\t C & 27.6 & negra \\\\\n\t C & 29.1 & negra \\\\\n\t C & 27.7 & negra \\\\\n\t D & 24.5 & negra \\\\\n\t D & 25.3 & negra \\\\\n\t D & 24.9 & negra \\\\\n\t D & 26.1 & negra \\\\\n\t E & 25.4 & negra \\\\\n\t E & 26.3 & negra \\\\\n\t E & 23.9 & negra \\\\\n\t E & 24.1 & negra \\\\\n\\end{tabular}\n",
            "text/markdown": "\nA data.frame: 20 × 3\n\n| Marca &lt;fct&gt; | vc &lt;dbl&gt; | Tipo &lt;fct&gt; |\n|---|---|---|\n| A | 31.5 | blanca |\n| A | 32.0 | blanca |\n| A | 32.7 | blanca |\n| A | 30.9 | blanca |\n| B | 32.3 | blanca |\n| B | 31.9 | blanca |\n| B | 33.0 | blanca |\n| B | 31.7 | blanca |\n| C | 28.8 | negra  |\n| C | 27.6 | negra  |\n| C | 29.1 | negra  |\n| C | 27.7 | negra  |\n| D | 24.5 | negra  |\n| D | 25.3 | negra  |\n| D | 24.9 | negra  |\n| D | 26.1 | negra  |\n| E | 25.4 | negra  |\n| E | 26.3 | negra  |\n| E | 23.9 | negra  |\n| E | 24.1 | negra  |\n\n",
            "text/html": [
              "<table class=\"dataframe\">\n",
              "<caption>A data.frame: 20 × 3</caption>\n",
              "<thead>\n",
              "\t<tr><th scope=col>Marca</th><th scope=col>vc</th><th scope=col>Tipo</th></tr>\n",
              "\t<tr><th scope=col>&lt;fct&gt;</th><th scope=col>&lt;dbl&gt;</th><th scope=col>&lt;fct&gt;</th></tr>\n",
              "</thead>\n",
              "<tbody>\n",
              "\t<tr><td>A</td><td>31.5</td><td>blanca</td></tr>\n",
              "\t<tr><td>A</td><td>32.0</td><td>blanca</td></tr>\n",
              "\t<tr><td>A</td><td>32.7</td><td>blanca</td></tr>\n",
              "\t<tr><td>A</td><td>30.9</td><td>blanca</td></tr>\n",
              "\t<tr><td>B</td><td>32.3</td><td>blanca</td></tr>\n",
              "\t<tr><td>B</td><td>31.9</td><td>blanca</td></tr>\n",
              "\t<tr><td>B</td><td>33.0</td><td>blanca</td></tr>\n",
              "\t<tr><td>B</td><td>31.7</td><td>blanca</td></tr>\n",
              "\t<tr><td>C</td><td>28.8</td><td>negra </td></tr>\n",
              "\t<tr><td>C</td><td>27.6</td><td>negra </td></tr>\n",
              "\t<tr><td>C</td><td>29.1</td><td>negra </td></tr>\n",
              "\t<tr><td>C</td><td>27.7</td><td>negra </td></tr>\n",
              "\t<tr><td>D</td><td>24.5</td><td>negra </td></tr>\n",
              "\t<tr><td>D</td><td>25.3</td><td>negra </td></tr>\n",
              "\t<tr><td>D</td><td>24.9</td><td>negra </td></tr>\n",
              "\t<tr><td>D</td><td>26.1</td><td>negra </td></tr>\n",
              "\t<tr><td>E</td><td>25.4</td><td>negra </td></tr>\n",
              "\t<tr><td>E</td><td>26.3</td><td>negra </td></tr>\n",
              "\t<tr><td>E</td><td>23.9</td><td>negra </td></tr>\n",
              "\t<tr><td>E</td><td>24.1</td><td>negra </td></tr>\n",
              "</tbody>\n",
              "</table>\n"
            ]
          },
          "metadata": {}
        }
      ]
    },
    {
      "cell_type": "code",
      "source": [
        "summary(df)"
      ],
      "metadata": {
        "colab": {
          "base_uri": "https://localhost:8080/",
          "height": 136
        },
        "id": "HjNtpsfbjB9k",
        "outputId": "99f465cf-b0e6-4bac-db03-56f1ae5ddb51"
      },
      "execution_count": 32,
      "outputs": [
        {
          "output_type": "display_data",
          "data": {
            "text/plain": [
              " Marca       vc            Tipo   \n",
              " A:4   Min.   :23.90   blanca: 8  \n",
              " B:4   1st Qu.:25.38   negra :12  \n",
              " C:4   Median :28.25              \n",
              " D:4   Mean   :28.48              \n",
              " E:4   3rd Qu.:31.75              \n",
              "       Max.   :33.00              "
            ]
          },
          "metadata": {}
        }
      ]
    },
    {
      "cell_type": "code",
      "source": [
        "modelo1=lm(vc~Tipo-1)\n",
        "summary(modelo1)"
      ],
      "metadata": {
        "colab": {
          "base_uri": "https://localhost:8080/",
          "height": 323
        },
        "id": "HgBWWoR1jHEa",
        "outputId": "a0c21430-e03c-4961-a26f-9f20784cc9de"
      },
      "execution_count": 33,
      "outputs": [
        {
          "output_type": "display_data",
          "data": {
            "text/plain": [
              "\n",
              "Call:\n",
              "lm(formula = vc ~ Tipo - 1)\n",
              "\n",
              "Residuals:\n",
              "     Min       1Q   Median       3Q      Max \n",
              "-2.24167 -0.90625 -0.07083  0.77500  2.95833 \n",
              "\n",
              "Coefficients:\n",
              "           Estimate Std. Error t value Pr(>|t|)    \n",
              "Tipoblanca  32.0000     0.5152   62.11   <2e-16 ***\n",
              "Tiponegra   26.1417     0.4207   62.14   <2e-16 ***\n",
              "---\n",
              "Signif. codes:  0 ‘***’ 0.001 ‘**’ 0.01 ‘*’ 0.05 ‘.’ 0.1 ‘ ’ 1\n",
              "\n",
              "Residual standard error: 1.457 on 18 degrees of freedom\n",
              "Multiple R-squared:  0.9977,\tAdjusted R-squared:  0.9974 \n",
              "F-statistic:  3859 on 2 and 18 DF,  p-value: < 2.2e-16\n"
            ]
          },
          "metadata": {}
        }
      ]
    },
    {
      "cell_type": "markdown",
      "source": [
        "## Mediante el test de tukey analizar si hay diferencias entre los tipos de cerveza"
      ],
      "metadata": {
        "id": "aee26j8BF1Fv"
      }
    },
    {
      "cell_type": "code",
      "source": [
        "ajuste1=aov(vc~Tipo-1)\n",
        "compara1=glht(ajuste1,mcp(Tipo=\"Tukey\"))\n",
        "summary(compara1)"
      ],
      "metadata": {
        "id": "14lHWieaF6-3",
        "colab": {
          "base_uri": "https://localhost:8080/",
          "height": 255
        },
        "outputId": "46c68d56-8336-49fc-fd39-36550d9378bb"
      },
      "execution_count": 41,
      "outputs": [
        {
          "output_type": "display_data",
          "data": {
            "text/plain": [
              "\n",
              "\t Simultaneous Tests for General Linear Hypotheses\n",
              "\n",
              "Multiple Comparisons of Means: Tukey Contrasts\n",
              "\n",
              "\n",
              "Fit: aov(formula = vc ~ Tipo - 1)\n",
              "\n",
              "Linear Hypotheses:\n",
              "                    Estimate Std. Error t value Pr(>|t|)    \n",
              "negra - blanca == 0  -5.8583     0.6652  -8.807 6.07e-08 ***\n",
              "---\n",
              "Signif. codes:  0 ‘***’ 0.001 ‘**’ 0.01 ‘*’ 0.05 ‘.’ 0.1 ‘ ’ 1\n",
              "(Adjusted p values reported -- single-step method)\n"
            ]
          },
          "metadata": {}
        }
      ]
    },
    {
      "cell_type": "code",
      "source": [
        "plot(compara1)"
      ],
      "metadata": {
        "colab": {
          "base_uri": "https://localhost:8080/",
          "height": 437
        },
        "id": "ewgLKaC_mTFv",
        "outputId": "08efb724-b6ab-4120-a2e9-da1cd0ce651f"
      },
      "execution_count": 47,
      "outputs": [
        {
          "output_type": "display_data",
          "data": {
            "image/png": "[encoded data removed]",
            "text/plain": [
              "Plot with title “95% family-wise confidence level\n",
              "”"
            ]
          },
          "metadata": {
            "image/png": {
              "width": 420,
              "height": 420
            }
          }
        }
      ]
    },
    {
      "cell_type": "code",
      "source": [
        "ajuste2=aov(vc~Marca-1)\n",
        "compara2=glht(ajuste2,mcp(Marca=\"Tukey\"))\n",
        "summary(compara2)"
      ],
      "metadata": {
        "colab": {
          "base_uri": "https://localhost:8080/",
          "height": 408
        },
        "id": "nsZElIuglyYD",
        "outputId": "12ab768c-e077-435b-bf29-06d52041f1b3"
      },
      "execution_count": 42,
      "outputs": [
        {
          "output_type": "display_data",
          "data": {
            "text/plain": [
              "\n",
              "\t Simultaneous Tests for General Linear Hypotheses\n",
              "\n",
              "Multiple Comparisons of Means: Tukey Contrasts\n",
              "\n",
              "\n",
              "Fit: aov(formula = vc ~ Marca - 1)\n",
              "\n",
              "Linear Hypotheses:\n",
              "           Estimate Std. Error t value Pr(>|t|)    \n",
              "B - A == 0   0.4500     0.5693   0.790 0.929447    \n",
              "C - A == 0  -3.4750     0.5693  -6.104 0.000205 ***\n",
              "D - A == 0  -6.5750     0.5693 -11.550  < 1e-04 ***\n",
              "E - A == 0  -6.8500     0.5693 -12.033  < 1e-04 ***\n",
              "C - B == 0  -3.9250     0.5693  -6.895  < 1e-04 ***\n",
              "D - B == 0  -7.0250     0.5693 -12.340  < 1e-04 ***\n",
              "E - B == 0  -7.3000     0.5693 -12.823  < 1e-04 ***\n",
              "D - C == 0  -3.1000     0.5693  -5.445 0.000550 ***\n",
              "E - C == 0  -3.3750     0.5693  -5.929 0.000183 ***\n",
              "E - D == 0  -0.2750     0.5693  -0.483 0.987797    \n",
              "---\n",
              "Signif. codes:  0 ‘***’ 0.001 ‘**’ 0.01 ‘*’ 0.05 ‘.’ 0.1 ‘ ’ 1\n",
              "(Adjusted p values reported -- single-step method)\n"
            ]
          },
          "metadata": {}
        }
      ]
    },
    {
      "cell_type": "code",
      "source": [
        "plot(compara2)"
      ],
      "metadata": {
        "colab": {
          "base_uri": "https://localhost:8080/",
          "height": 437
        },
        "id": "uJ4CIhocmMzc",
        "outputId": "39abfb5d-f2c5-4400-9808-cd0f68dfded0"
      },
      "execution_count": 46,
      "outputs": [
        {
          "output_type": "display_data",
          "data": {
            "image/png": "[encoded data removed]",
            "text/plain": [
              "Plot with title “95% family-wise confidence level\n",
              "”"
            ]
          },
          "metadata": {
            "image/png": {
              "width": 420,
              "height": 420
            }
          }
        }
      ]
    },
    {
      "cell_type": "markdown",
      "source": [
        "## Hallar un intervalo de confianza del $95$% para la diferencia entre las marcas con mayor y menor valor calórico"
      ],
      "metadata": {
        "id": "seMQAgvSF7ep"
      }
    },
    {
      "cell_type": "code",
      "source": [
        ""
      ],
      "metadata": {
        "id": "r2Yn_kQRGJ5P"
      },
      "execution_count": 17,
      "outputs": []
    }
  ]
}