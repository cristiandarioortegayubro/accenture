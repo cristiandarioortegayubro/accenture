{
  "nbformat": 4,
  "nbformat_minor": 0,
  "metadata": {
    "colab": {
      "name": "accenturealgoritmos.ipynb",
      "provenance": [],
      "authorship_tag": "ABX9TyOCaOqQTxdzHXllEBZDAUVd",
      "include_colab_link": true
    },
    "kernelspec": {
      "name": "python3",
      "display_name": "Python 3"
    },
    "language_info": {
      "name": "python"
    }
  },
  "cells": [
    {
      "cell_type": "markdown",
      "metadata": {
        "id": "view-in-github",
        "colab_type": "text"
      },
      "source": [
        "<a href=\"https://colab.research.google.com/github/cristiandarioortegayubro/accenture/blob/main/accenturealgoritmos.ipynb\" target=\"_parent\"><img src=\"https://colab.research.google.com/assets/colab-badge.svg\" alt=\"Open In Colab\"/></a>"
      ]
    },
    {
      "cell_type": "markdown",
      "source": [
        "![texto del vínculo](https://www.accenture.com/t20180820T081710Z__w__/il-en/_acnmedia/Accenture/Dev/Redesign/Acc_Logo_Black_Purple_RGB.PNG)"
      ],
      "metadata": {
        "id": "OC_zadWpdmpq"
      }
    },
    {
      "cell_type": "markdown",
      "source": [
        "# Algoritmos / Programación\n",
        "~~~python\n",
        "Cdor. Cristian Darío Ortega Yubro\n",
        "~~~"
      ],
      "metadata": {
        "id": "fuEg4xY8S5Hs"
      }
    },
    {
      "cell_type": "markdown",
      "source": [
        "## If-Else\n",
        "Dado un número entero $(n)$:\n",
        "- Si $(n)$ es impar, imprimir la palabra “número raro”\n",
        "- Si $(n)$ es par y se encuentre en el rango de $2$ a $5$ (inclusive), imprimir “qué número copado”\n",
        "- Si $(n)$ es par y se encuentre en el rango de $6$ a $20$ (inclusive), imprimir “ok, este número es medio raro”\n",
        "- Si $(n)$ es par y mayor a $20$, imprimir “estos números no son raros”\n"
      ],
      "metadata": {
        "id": "7oiwWt6xXDYF"
      }
    },
    {
      "cell_type": "code",
      "execution_count": 14,
      "metadata": {
        "id": "VGRsmHyvdlpE",
        "colab": {
          "base_uri": "https://localhost:8080/"
        },
        "outputId": "a157fe6c-3ad9-4bee-c57e-ae5b46ba785e"
      },
      "outputs": [
        {
          "output_type": "stream",
          "name": "stdout",
          "text": [
            "Escriba un número entero: 22\n",
            "estos números no son raros\n"
          ]
        }
      ],
      "source": [
        "n = int(input(\"Escriba un número entero: \"))\n",
        "\n",
        "if n%2 == 0:\n",
        "  for x in range(2,5):\n",
        "    if x == n:\n",
        "      print (f\"{x} qúe número copado\")\n",
        "\n",
        "  for y in range(6,21):\n",
        "    if y == n:\n",
        "      print (\"ok, este número es medio raro\")\n",
        "  \n",
        "  if n > 20:\n",
        "    print (\"estos números no son raros\")\n",
        "\n",
        "else:\n",
        "  print (\"número raro\")"
      ]
    },
    {
      "cell_type": "markdown",
      "source": [
        "##Loops\n",
        "Leer un número entero $(n)$. \n",
        "\n",
        "Donde se sabe que $1 <= n <= 20$.\n",
        "Imprimir el cuadrado de todos los números enteros que se encuentran entre $1$ y $n$.\n"
      ],
      "metadata": {
        "id": "qQbV1yYIiUnr"
      }
    },
    {
      "cell_type": "code",
      "source": [
        "n = int(input(\"Escriba un número entero entre 1 y 20 inclusive: \"))\n",
        "\n",
        "if n > 20:\n",
        "  print(\"El número seleccionado es mayor a 20, por favor seleccione un número entre 1 y 20\")\n",
        "  \n",
        "else:\n",
        "  print(f\"El número seleccionado es {n}\")\n",
        "  for x in range(1,(n+1)):\n",
        "    print(f\"Para el número {x}, su cuadrado es {x ** 2}\")"
      ],
      "metadata": {
        "colab": {
          "base_uri": "https://localhost:8080/"
        },
        "id": "H1OZZ2Wvi6ZD",
        "outputId": "0807c53d-dde9-43ab-f09f-257212a5b281"
      },
      "execution_count": 22,
      "outputs": [
        {
          "output_type": "stream",
          "name": "stdout",
          "text": [
            "Escriba un número entero entre 1 y 20 inclusive: 20\n",
            "El número seleccionado es 20\n",
            "Para el número 1, su cuadrado es 1\n",
            "Para el número 2, su cuadrado es 4\n",
            "Para el número 3, su cuadrado es 9\n",
            "Para el número 4, su cuadrado es 16\n",
            "Para el número 5, su cuadrado es 25\n",
            "Para el número 6, su cuadrado es 36\n",
            "Para el número 7, su cuadrado es 49\n",
            "Para el número 8, su cuadrado es 64\n",
            "Para el número 9, su cuadrado es 81\n",
            "Para el número 10, su cuadrado es 100\n",
            "Para el número 11, su cuadrado es 121\n",
            "Para el número 12, su cuadrado es 144\n",
            "Para el número 13, su cuadrado es 169\n",
            "Para el número 14, su cuadrado es 196\n",
            "Para el número 15, su cuadrado es 225\n",
            "Para el número 16, su cuadrado es 256\n",
            "Para el número 17, su cuadrado es 289\n",
            "Para el número 18, su cuadrado es 324\n",
            "Para el número 19, su cuadrado es 361\n",
            "Para el número 20, su cuadrado es 400\n"
          ]
        }
      ]
    },
    {
      "cell_type": "markdown",
      "source": [
        "##Funciones\n",
        "Escribir una función que en base a un número entero positivo $(n)$ devuelva la factorial de ese número.\n",
        "\n",
        "- La función debe recibir como argumento ese número $n$.\n",
        "- Como output, la función debería imprimir la factorial de ese número.\n",
        "\n",
        "Ejemplo: si se le diera el número $3$ a la función, esta debería imprimir el resultado de $3\\times2\\times1$ que es $6$.\n"
      ],
      "metadata": {
        "id": "xvBbgeWcmIl-"
      }
    },
    {
      "cell_type": "code",
      "source": [
        "def factorial(n):\n",
        "  return 1 if (n==1 or n==0) else n * factorial(n - 1) "
      ],
      "metadata": {
        "id": "PXnxZ4YTmrgJ"
      },
      "execution_count": 28,
      "outputs": []
    },
    {
      "cell_type": "code",
      "source": [
        "n = int(input(\"Escriba un número entero positivo: \"))\n",
        "factorial(n)"
      ],
      "metadata": {
        "colab": {
          "base_uri": "https://localhost:8080/"
        },
        "id": "kGIs9RDEmjYy",
        "outputId": "e6486559-bd5f-4bef-fe83-2314ef829af4"
      },
      "execution_count": 32,
      "outputs": [
        {
          "name": "stdout",
          "output_type": "stream",
          "text": [
            "Escriba un número entero positivo: 3\n"
          ]
        },
        {
          "output_type": "execute_result",
          "data": {
            "text/plain": [
              "6"
            ]
          },
          "metadata": {},
          "execution_count": 32
        }
      ]
    }
  ]
}