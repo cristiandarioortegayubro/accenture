{
  "nbformat": 4,
  "nbformat_minor": 0,
  "metadata": {
    "colab": {
      "name": "accenturealgoritmos.ipynb",
      "provenance": [],
      "authorship_tag": "ABX9TyNcjMne+gq4Jr8rNpnNFIfG",
      "include_colab_link": true
    },
    "kernelspec": {
      "name": "python3",
      "display_name": "Python 3"
    },
    "language_info": {
      "name": "python"
    }
  },
  "cells": [
    {
      "cell_type": "markdown",
      "metadata": {
        "id": "view-in-github",
        "colab_type": "text"
      },
      "source": [
        "<a href=\"https://colab.research.google.com/github/cristiandarioortegayubro/accenture/blob/main/accenturealgoritmos.ipynb\" target=\"_parent\"><img src=\"https://colab.research.google.com/assets/colab-badge.svg\" alt=\"Open In Colab\"/></a>"
      ]
    },
    {
      "cell_type": "markdown",
      "source": [
        "![texto del vínculo](https://www.accenture.com/t20180820T081710Z__w__/il-en/_acnmedia/Accenture/Dev/Redesign/Acc_Logo_Black_Purple_RGB.PNG)"
      ],
      "metadata": {
        "id": "OC_zadWpdmpq"
      }
    },
    {
      "cell_type": "markdown",
      "source": [
        "# Algoritmos / Programación\n",
        "~~~python\n",
        "Cdor. Cristian Darío Ortega Yubro\n",
        "~~~"
      ],
      "metadata": {
        "id": "fuEg4xY8S5Hs"
      }
    },
    {
      "cell_type": "code",
      "execution_count": null,
      "metadata": {
        "id": "VGRsmHyvdlpE"
      },
      "outputs": [],
      "source": [
        ""
      ]
    }
  ]
}